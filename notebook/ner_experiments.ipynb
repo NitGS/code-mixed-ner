import pandas as pd
from transformers import pipeline

# Load data
df = pd.read_csv("../data.csv")

# Load zero-shot NER pipeline
ner_pipeline = pipeline("ner", model="urchade/gliner_base", tokenizer="urchade/gliner_base", grouped_entities=True)

# Run on one sentence
sentence = df.iloc[0]["sentence"]
results = ner_pipeline(sentence)

print("Sentence:", sentence)
print("Predicted Entities:")
for ent in results:
    print(f"{ent['entity_group']} → {ent['word']}")
